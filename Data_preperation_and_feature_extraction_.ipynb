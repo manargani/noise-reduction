{
  "nbformat": 4,
  "nbformat_minor": 0,
  "metadata": {
    "colab": {
      "provenance": [],
      "include_colab_link": true
    },
    "kernelspec": {
      "name": "python3",
      "display_name": "Python 3"
    },
    "language_info": {
      "name": "python"
    }
  },
  "cells": [
    {
      "cell_type": "markdown",
      "metadata": {
        "id": "view-in-github",
        "colab_type": "text"
      },
      "source": [
        "<a href=\"https://colab.research.google.com/github/manargani/noise-reduction/blob/main/Data_preperation_and_feature_extraction_.ipynb\" target=\"_parent\"><img src=\"https://colab.research.google.com/assets/colab-badge.svg\" alt=\"Open In Colab\"/></a>"
      ]
    },
    {
      "cell_type": "code",
      "metadata": {
        "id": "mK97dmopndNt"
      },
      "source": [
        "from google.colab import drive\n",
        "drive.mount('/content/gdrive')\n",
        "!ls"
      ],
      "execution_count": null,
      "outputs": []
    },
    {
      "cell_type": "code",
      "metadata": {
        "id": "aISZlOE5oYEc"
      },
      "source": [
        "!pip install pydub\n",
        "!pip install noisereduce\n",
        "!pip install surfboard\n",
        "!pip install librosa\n",
        "!pip install soundfile"
      ],
      "execution_count": null,
      "outputs": []
    },
    {
      "cell_type": "code",
      "metadata": {
        "id": "j4o7461gnR2m"
      },
      "source": [
        "from pydub import AudioSegment\n",
        "from pydub.utils import make_chunks\n",
        "import os\n",
        "import glob\n",
        "import librosa\n",
        "import noisereduce as nr\n",
        "import numpy as np\n",
        "import matplotlib.pyplot as plt\n",
        "import IPython\n",
        "from surfboard.feature_extraction import extract_features\n",
        "from surfboard.sound import Waveform\n",
        "import pandas as pd\n",
        "import soundfile as sf\n",
        "import sys"
      ],
      "execution_count": null,
      "outputs": []
    },
    {
      "cell_type": "code",
      "metadata": {
        "id": "X0l_DmnFm7be"
      },
      "source": [
        "\n",
        "inputfolder = \"C:/Users/Sanghamitra/Downloads/Research/Mydata/\"\n",
        "\n",
        "for filename in glob.glob(os.path.join(inputfolder,\"*.wav\")):\n",
        "    filename1 = os.path.splitext(filename)[0]\n",
        "    print(filename1.rsplit('\\\\',1)[1])\n",
        "    myaudio = AudioSegment.from_file(filename , \"wav\")\n",
        "    chunk_length_ms = 0.4*1000 # pydub calculates in millisec\n",
        "    chunks = make_chunks(myaudio, chunk_length_ms)\n",
        "\n",
        "\n",
        "    folder = \"C:/Users/Sanghamitra/Downloads/Research/bat/\"\n",
        "    for i, chunk in enumerate(chunks):\n",
        "        chunk_name = folder+filename1.rsplit('\\\\',1)[1]+\"{0}.wav\".format(i)\n",
        "        print (\"exporting\", chunk_name)\n",
        "        chunk.export(chunk_name, format=\"wav\")\n",
        "\n",
        "folder = \"C:/Users/Sanghamitra/Downloads/Research/bat/\"\n",
        "for filename in glob.glob(os.path.join(folder,\"*.wav\")):\n",
        "    print(filename)\n",
        "    print(filename.rsplit('\\\\',1)[1])\n",
        "    audiosample, sr = librosa.load(filename)\n",
        "    IPython.display.display(IPython.display.Audio(audiosample, rate=sr,autoplay=True))\n",
        "    label = str(input(\"bat(1) or not (0)\"))\n",
        "    outputfilename = os.path.join(folder, label, filename.rsplit('\\\\',1)[1])\n",
        "    print(outputfilename)\n",
        "    print(\"Saving to: \" + outputfilename)\n",
        "    librosa.output.write_wav(outputfilename, audiosample, sr)"
      ],
      "execution_count": null,
      "outputs": []
    },
    {
      "cell_type": "code",
      "metadata": {
        "id": "mRa4My_5kSsb"
      },
      "source": [
        "#labeled-1-data\n",
        "count=1\n",
        "for filename in glob.glob(os.path.join('/content/gdrive/MyDrive/labeled/1/',\"*.wav\")):\n",
        "  sound = Waveform(path=filename)\n",
        "  feature_dataframe = extract_features([sound], ['mfcc', 'rms'], ['mean', 'std'])\n",
        "  feature_dataframe['file_name'] = filename\n",
        "  feature_dataframe.to_csv('/content/gdrive/MyDrive/without-noise-red/'+str(count)+'.csv',index=False)\n",
        "  count = count+1\n",
        "\n",
        "os.chdir(\"/content/gdrive/MyDrive/without-noise-red/\")\n",
        "extension = 'csv'\n",
        "all_filenames = [i for i in glob.glob('*.{}'.format(extension))]\n",
        "#combine all files in the list\n",
        "combined_csv = pd.concat([pd.read_csv(f) for f in all_filenames ])\n",
        "#export to csv\n",
        "combined_csv.to_csv( \"combined_csv.csv\", index=False, encoding='utf-8-sig')"
      ],
      "execution_count": null,
      "outputs": []
    },
    {
      "cell_type": "code",
      "metadata": {
        "id": "S3Gj5PnjlADB"
      },
      "source": [
        "#labeled-1-noise-reduce\n",
        "\n",
        "count =1\n",
        "for filename in glob.glob(os.path.join('/content/gdrive/MyDrive/labeled/1/',\"*.wav\")):\n",
        "  audio_data, sampling_rate = librosa.load(filename)\n",
        "  noisy_part = audio_data\n",
        "  reduced_noise = nr.reduce_noise(audio_clip=audio_data, noise_clip=noisy_part, verbose=False)\n",
        "  sf.write('/content/gdrive/MyDrive/noise-reduce-files/'+str(count)+'.wav',reduced_noise,sampling_rate)\n",
        "  count = count+1"
      ],
      "execution_count": null,
      "outputs": []
    },
    {
      "cell_type": "code",
      "metadata": {
        "id": "hodto1G_kyAw"
      },
      "source": [
        "#labeled-1-noise-reduce\n",
        "count=1\n",
        "for filename in glob.glob(os.path.join('/content/gdrive/MyDrive/noise-reduce-files/',\"*.wav\")):\n",
        "  sound = Waveform(path=filename)\n",
        "  feature_dataframe = extract_features([sound], ['mfcc', 'rms'], ['mean', 'std'])\n",
        "  feature_dataframe['file_name'] = filename\n",
        "  feature_dataframe.to_csv('/content/gdrive/MyDrive/noise-reduce-files/'+str(count)+'.csv',index=False)\n",
        "  count = count+1\n",
        "\n",
        "os.chdir(\"/content/gdrive/MyDrive/noise-reduce-files/\")\n",
        "extension = 'csv'\n",
        "all_filenames = [i for i in glob.glob('*.{}'.format(extension))]\n",
        "#combine all files in the list\n",
        "combined_csv = pd.concat([pd.read_csv(f) for f in all_filenames ])\n",
        "#export to csv\n",
        "combined_csv.to_csv( \"combined_csv_noise-reduce.csv\", index=False, encoding='utf-8-sig')"
      ],
      "execution_count": null,
      "outputs": []
    },
    {
      "cell_type": "code",
      "metadata": {
        "id": "F4rZrF1Bmdw5"
      },
      "source": [
        "#labeled-0-data\n",
        "count=1\n",
        "for filename in glob.glob(os.path.join('/content/gdrive/MyDrive/labeled/0/',\"*.wav\")):\n",
        "  sound = Waveform(path=filename)\n",
        "  feature_dataframe = extract_features([sound], ['mfcc', 'rms'], ['mean', 'std'])\n",
        "  feature_dataframe['file_name'] = filename\n",
        "  feature_dataframe.to_csv('/content/gdrive/MyDrive/labeled/noisy-csv/'+str(count)+'.csv',index=False)\n",
        "  count = count+1\n",
        "\n",
        "os.chdir(\"/content/gdrive/MyDrive/labeled/noisy-csv/\")\n",
        "extension = 'csv'\n",
        "all_filenames = [i for i in glob.glob('*.{}'.format(extension))]\n",
        "#combine all files in the list\n",
        "combined_csv = pd.concat([pd.read_csv(f) for f in all_filenames ])\n",
        "#export to csv\n",
        "combined_csv.to_csv( \"combined_csv_noisy.csv\", index=False, encoding='utf-8-sig')"
      ],
      "execution_count": null,
      "outputs": []
    }
  ]
}