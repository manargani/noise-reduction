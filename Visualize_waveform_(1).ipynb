{
  "nbformat": 4,
  "nbformat_minor": 0,
  "metadata": {
    "colab": {
      "provenance": [],
      "include_colab_link": true
    },
    "kernelspec": {
      "name": "python3",
      "display_name": "Python 3"
    },
    "language_info": {
      "name": "python"
    }
  },
  "cells": [
    {
      "cell_type": "markdown",
      "metadata": {
        "id": "view-in-github",
        "colab_type": "text"
      },
      "source": [
        "<a href=\"https://colab.research.google.com/github/manargani/noise-reduction/blob/main/Visualize_waveform_(1).ipynb\" target=\"_parent\"><img src=\"https://colab.research.google.com/assets/colab-badge.svg\" alt=\"Open In Colab\"/></a>"
      ]
    },
    {
      "cell_type": "code",
      "metadata": {
        "id": "l01psa8g0BDs"
      },
      "source": [
        "from google.colab import drive\n",
        "drive.mount('/content/gdrive')\n",
        "!ls"
      ],
      "execution_count": null,
      "outputs": []
    },
    {
      "cell_type": "code",
      "metadata": {
        "id": "voKQsVOto1Py"
      },
      "source": [
        "!pip install pydub\n",
        "!pip install noisereduce\n",
        "!pip install surfboard\n",
        "!pip install librosa\n",
        "!pip install soundfile"
      ],
      "execution_count": null,
      "outputs": []
    },
    {
      "cell_type": "code",
      "metadata": {
        "id": "gkvQzTaU22c6"
      },
      "source": [
        "import random\n",
        "import sys\n",
        "import glob\n",
        "import os\n",
        "import time\n",
        "import pandas as pd\n",
        "import noisereduce as nr\n",
        "import IPython\n",
        "import matplotlib.pyplot as plt\n",
        "from matplotlib.pyplot import specgram\n",
        "import pandas as pd\n",
        "import librosa\n",
        "import librosa.display\n",
        "import seaborn as sns\n",
        "from sklearn.preprocessing import normalize\n",
        "import numpy as np\n",
        "import tensorflow as tf\n",
        "import keras\n",
        "from keras.models import Sequential\n",
        "from keras.layers import Dense, Conv2D, MaxPooling2D, Dropout, Flatten\n",
        "from surfboard.feature_extraction import extract_features\n",
        "from surfboard.sound import Waveform"
      ],
      "execution_count": null,
      "outputs": []
    },
    {
      "cell_type": "code",
      "metadata": {
        "id": "b_B54wM64-go"
      },
      "source": [
        "y,sr = librosa.load('/content/gdrive/MyDrive/wav/50689631516bcb8d0a0001ac.wav')"
      ],
      "execution_count": null,
      "outputs": []
    },
    {
      "cell_type": "code",
      "metadata": {
        "id": "VTCuXy6aF0Mg"
      },
      "source": [
        "fig,ax =plt.subplots(figsize=(18, 8))\n",
        "ax.set(title=\"Waveform and spectrogram of audio signal in time domain\")\n",
        "librosa.display.waveplot(y, sr=sr)\n",
        "plt.savefig('raw-signal-2-2-waveform.png')"
      ],
      "execution_count": null,
      "outputs": []
    },
    {
      "cell_type": "code",
      "metadata": {
        "id": "0-tMh6WB3Xip"
      },
      "source": [
        "\n",
        "fig, ax = plt.subplots(figsize=(22,8))\n",
        "D = librosa.stft(y)  # STFT of y\n",
        "S_db = librosa.amplitude_to_db(np.abs(D), ref=np.max)\n",
        "img = librosa.display.specshow(S_db,cmap='viridis', x_axis='time', y_axis='linear')\n",
        "fig.colorbar(img, format=\"%+2.f dB\")\n",
        "plt.savefig('raw-signal-2-2-spectrogram.png')"
      ],
      "execution_count": null,
      "outputs": []
    },
    {
      "cell_type": "code",
      "metadata": {
        "id": "Wk4AdMJXCqd7"
      },
      "source": [
        "noisy_part = y\n",
        "reduced_noise = nr.reduce_noise(audio_clip=y, noise_clip=noisy_part, verbose=False)"
      ],
      "execution_count": null,
      "outputs": []
    },
    {
      "cell_type": "code",
      "metadata": {
        "id": "NHieqONxF4ed"
      },
      "source": [
        "fig,ax =plt.subplots(figsize=(18, 8))\n",
        "ax.set(title=\"Waveform and spectrogram of signal after applying noise-reduce method\")\n",
        "librosa.display.waveplot(reduced_noise, sr=sr)\n",
        "plt.savefig('reduce-signal-3-2-waveform.png')"
      ],
      "execution_count": null,
      "outputs": []
    },
    {
      "cell_type": "code",
      "metadata": {
        "id": "cvSX-x0GDUqS"
      },
      "source": [
        "\n",
        "fig, ax = plt.subplots(figsize=(22,8))\n",
        "D = librosa.stft(reduced_noise)  # STFT of y\n",
        "S_db = librosa.amplitude_to_db(np.abs(D), ref=np.max)\n",
        "img = librosa.display.specshow(S_db,cmap='viridis', x_axis='time', y_axis='linear')\n",
        "fig.colorbar(img, format=\"%+2.f dB\")\n",
        "plt.savefig('reduce-signal-3-2-spectrogram.png')"
      ],
      "execution_count": null,
      "outputs": []
    },
    {
      "cell_type": "code",
      "metadata": {
        "id": "7OOJhqdbJ2mj"
      },
      "source": [
        "mfccs = librosa.feature.mfcc(y=reduced_noise, sr=sr, n_mfcc=13)\n",
        "fig, ax = plt.subplots(figsize=(18,8))\n",
        "img = librosa.display.specshow(mfccs,y_axis='mel', x_axis='time',cmap='Spectral', ax=ax)\n",
        "fig.colorbar(img, ax=ax)\n",
        "ax.set(title='MFCC')\n",
        "plt.tight_layout()\n",
        "plt.savefig('mfcc-spectrogram-4-2.png')"
      ],
      "execution_count": null,
      "outputs": []
    },
    {
      "cell_type": "code",
      "metadata": {
        "id": "Zl2iQ2-hIJzN"
      },
      "source": [
        "D = np.abs(librosa.stft(reduced_noise))**2\n",
        "S = librosa.feature.melspectrogram(S=D)\n",
        "fig, ax = plt.subplots(figsize=(18,8))\n",
        "librosa.display.specshow(librosa.power_to_db(S,ref=np.max),y_axis='mel',cmap='Spectral',x_axis='time')\n",
        "plt.colorbar(format='%+2.0f dB')\n",
        "plt.title('Mel spectrogram')\n",
        "plt.tight_layout()\n",
        "plt.savefig('mel-spec-4-2.png')"
      ],
      "execution_count": null,
      "outputs": []
    },
    {
      "cell_type": "code",
      "metadata": {
        "id": "P1erbhVCm1ys"
      },
      "source": [
        "import pandas as pd\n",
        "reduce_data = pd.read_csv('/content/combined_csv_noise-reduce.csv')"
      ],
      "execution_count": null,
      "outputs": []
    },
    {
      "cell_type": "code",
      "metadata": {
        "id": "TnbXbz-HEInA"
      },
      "source": [
        "reduce_data.head()"
      ],
      "execution_count": null,
      "outputs": []
    }
  ]
}